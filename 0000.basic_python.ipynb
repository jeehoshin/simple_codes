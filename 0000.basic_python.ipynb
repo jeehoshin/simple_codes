{
 "cells": [
  {
   "cell_type": "markdown",
   "metadata": {},
   "source": [
    "# 1) dir()"
   ]
  },
  {
   "cell_type": "markdown",
   "metadata": {},
   "source": [
    "해당 객체에 어떤 메서드를 사용할 수 있는지 알려준다."
   ]
  },
  {
   "cell_type": "code",
   "execution_count": 3,
   "metadata": {},
   "outputs": [
    {
     "data": {
      "text/plain": [
       "['__annotations__',\n",
       " '__call__',\n",
       " '__class__',\n",
       " '__closure__',\n",
       " '__code__',\n",
       " '__defaults__',\n",
       " '__delattr__',\n",
       " '__dict__',\n",
       " '__dir__',\n",
       " '__doc__',\n",
       " '__eq__',\n",
       " '__format__',\n",
       " '__ge__',\n",
       " '__get__',\n",
       " '__getattribute__',\n",
       " '__globals__',\n",
       " '__gt__',\n",
       " '__hash__',\n",
       " '__init__',\n",
       " '__init_subclass__',\n",
       " '__kwdefaults__',\n",
       " '__le__',\n",
       " '__lt__',\n",
       " '__module__',\n",
       " '__name__',\n",
       " '__ne__',\n",
       " '__new__',\n",
       " '__qualname__',\n",
       " '__reduce__',\n",
       " '__reduce_ex__',\n",
       " '__repr__',\n",
       " '__setattr__',\n",
       " '__sizeof__',\n",
       " '__str__',\n",
       " '__subclasshook__']"
      ]
     },
     "execution_count": 3,
     "metadata": {},
     "output_type": "execute_result"
    }
   ],
   "source": [
    "import pandas as pd\n",
    "from scipy import stats\n",
    "insurance = pd.read_csv(\"C:/Users/jiho0/Desktop/Data_Analysis/(p-sat)package/2018_2/week1/insurance.csv\")\n",
    "dir(stats.boxcox)"
   ]
  },
  {
   "cell_type": "markdown",
   "metadata": {},
   "source": [
    "# 2) help"
   ]
  },
  {
   "cell_type": "markdown",
   "metadata": {},
   "source": [
    "해당 메서드를 어떻게 사용하는지 알려준다"
   ]
  },
  {
   "cell_type": "code",
   "execution_count": 4,
   "metadata": {},
   "outputs": [
    {
     "name": "stdout",
     "output_type": "stream",
     "text": [
      "Help on function boxcox in module scipy.stats.morestats:\n",
      "\n",
      "boxcox(x, lmbda=None, alpha=None)\n",
      "    Return a dataset transformed by a Box-Cox power transformation.\n",
      "    \n",
      "    Parameters\n",
      "    ----------\n",
      "    x : ndarray\n",
      "        Input array.  Must be positive 1-dimensional.  Must not be constant.\n",
      "    lmbda : {None, scalar}, optional\n",
      "        If `lmbda` is not None, do the transformation for that value.\n",
      "    \n",
      "        If `lmbda` is None, find the lambda that maximizes the log-likelihood\n",
      "        function and return it as the second output argument.\n",
      "    alpha : {None, float}, optional\n",
      "        If ``alpha`` is not None, return the ``100 * (1-alpha)%`` confidence\n",
      "        interval for `lmbda` as the third output argument.\n",
      "        Must be between 0.0 and 1.0.\n",
      "    \n",
      "    Returns\n",
      "    -------\n",
      "    boxcox : ndarray\n",
      "        Box-Cox power transformed array.\n",
      "    maxlog : float, optional\n",
      "        If the `lmbda` parameter is None, the second returned argument is\n",
      "        the lambda that maximizes the log-likelihood function.\n",
      "    (min_ci, max_ci) : tuple of float, optional\n",
      "        If `lmbda` parameter is None and ``alpha`` is not None, this returned\n",
      "        tuple of floats represents the minimum and maximum confidence limits\n",
      "        given ``alpha``.\n",
      "    \n",
      "    See Also\n",
      "    --------\n",
      "    probplot, boxcox_normplot, boxcox_normmax, boxcox_llf\n",
      "    \n",
      "    Notes\n",
      "    -----\n",
      "    The Box-Cox transform is given by::\n",
      "    \n",
      "        y = (x**lmbda - 1) / lmbda,  for lmbda > 0\n",
      "            log(x),                  for lmbda = 0\n",
      "    \n",
      "    `boxcox` requires the input data to be positive.  Sometimes a Box-Cox\n",
      "    transformation provides a shift parameter to achieve this; `boxcox` does\n",
      "    not.  Such a shift parameter is equivalent to adding a positive constant to\n",
      "    `x` before calling `boxcox`.\n",
      "    \n",
      "    The confidence limits returned when ``alpha`` is provided give the interval\n",
      "    where:\n",
      "    \n",
      "    .. math::\n",
      "    \n",
      "        llf(\\hat{\\lambda}) - llf(\\lambda) < \\frac{1}{2}\\chi^2(1 - \\alpha, 1),\n",
      "    \n",
      "    with ``llf`` the log-likelihood function and :math:`\\chi^2` the chi-squared\n",
      "    function.\n",
      "    \n",
      "    References\n",
      "    ----------\n",
      "    G.E.P. Box and D.R. Cox, \"An Analysis of Transformations\", Journal of the\n",
      "    Royal Statistical Society B, 26, 211-252 (1964).\n",
      "    \n",
      "    Examples\n",
      "    --------\n",
      "    >>> from scipy import stats\n",
      "    >>> import matplotlib.pyplot as plt\n",
      "    \n",
      "    We generate some random variates from a non-normal distribution and make a\n",
      "    probability plot for it, to show it is non-normal in the tails:\n",
      "    \n",
      "    >>> fig = plt.figure()\n",
      "    >>> ax1 = fig.add_subplot(211)\n",
      "    >>> x = stats.loggamma.rvs(5, size=500) + 5\n",
      "    >>> prob = stats.probplot(x, dist=stats.norm, plot=ax1)\n",
      "    >>> ax1.set_xlabel('')\n",
      "    >>> ax1.set_title('Probplot against normal distribution')\n",
      "    \n",
      "    We now use `boxcox` to transform the data so it's closest to normal:\n",
      "    \n",
      "    >>> ax2 = fig.add_subplot(212)\n",
      "    >>> xt, _ = stats.boxcox(x)\n",
      "    >>> prob = stats.probplot(xt, dist=stats.norm, plot=ax2)\n",
      "    >>> ax2.set_title('Probplot after Box-Cox transformation')\n",
      "    \n",
      "    >>> plt.show()\n",
      "\n"
     ]
    }
   ],
   "source": [
    "help(stats.boxcox)"
   ]
  },
  {
   "cell_type": "markdown",
   "metadata": {},
   "source": [
    "# 3) magic 명령어"
   ]
  },
  {
   "cell_type": "markdown",
   "metadata": {},
   "source": [
    "주피터 및 ipython에는 다양한 magic 명령어들이 있다. 실제로 이들은 magic이다."
   ]
  },
  {
   "cell_type": "markdown",
   "metadata": {},
   "source": [
    "## 3-1) %pwd"
   ]
  },
  {
   "cell_type": "code",
   "execution_count": 4,
   "metadata": {},
   "outputs": [
    {
     "data": {
      "text/plain": [
       "'c:\\\\python\\\\0600.utilities'"
      ]
     },
     "execution_count": 4,
     "metadata": {},
     "output_type": "execute_result"
    }
   ],
   "source": [
    "%pwd"
   ]
  },
  {
   "cell_type": "markdown",
   "metadata": {},
   "source": [
    "## 3-2) %ls "
   ]
  },
  {
   "cell_type": "code",
   "execution_count": 5,
   "metadata": {},
   "outputs": [
    {
     "name": "stdout",
     "output_type": "stream",
     "text": [
      " C 드라이브의 볼륨: OS\n",
      " 볼륨 일련 번호: CE0D-7237\n",
      "\n",
      " c:\\python\\0600.utilities 디렉터리\n",
      "\n",
      "2021-11-09  오후 07:10    <DIR>          .\n",
      "2021-11-09  오후 07:10    <DIR>          ..\n",
      "2021-11-09  오후 07:08    <DIR>          .ipynb_checkpoints\n",
      "2021-11-09  오후 07:10            22,240 0000.basic_python.ipynb\n",
      "2021-10-20  오전 12:35            77,391 0100.data_handling.ipynb\n",
      "2021-04-02  오전 10:30            18,207 crawling_for_frietag.ipynb\n",
      "2021-03-29  오후 03:15             6,224 numpy_reshape.ipynb\n",
      "2021-03-26  오후 03:33             9,374 pipeline.ipynb\n",
      "2021-03-29  오후 02:14             8,238 regularization.ipynb\n",
      "               6개 파일             141,674 바이트\n",
      "               3개 디렉터리  122,776,829,952 바이트 남음\n"
     ]
    }
   ],
   "source": [
    "%ls"
   ]
  },
  {
   "cell_type": "markdown",
   "metadata": {},
   "source": [
    "## 3-3) %cd"
   ]
  },
  {
   "cell_type": "markdown",
   "metadata": {},
   "source": [
    "Changing Directory의 준말로, 경로를 바꿔주는 좋은 함수다."
   ]
  },
  {
   "cell_type": "code",
   "execution_count": 9,
   "metadata": {},
   "outputs": [
    {
     "name": "stdout",
     "output_type": "stream",
     "text": [
      "c:\\python\\0600.utilities\n"
     ]
    }
   ],
   "source": [
    "\"\"\n",
    "%cd c:/python/0600.utilities"
   ]
  },
  {
   "cell_type": "code",
   "execution_count": 10,
   "metadata": {},
   "outputs": [
    {
     "data": {
      "text/plain": [
       "'c:\\\\python\\\\0600.utilities'"
      ]
     },
     "execution_count": 10,
     "metadata": {},
     "output_type": "execute_result"
    }
   ],
   "source": [
    "%pwd"
   ]
  },
  {
   "cell_type": "markdown",
   "metadata": {},
   "source": [
    "# 4) Pandas의 str"
   ]
  },
  {
   "cell_type": "markdown",
   "metadata": {},
   "source": [
    "https://yganalyst.github.io/data_handling/memo_9/"
   ]
  },
  {
   "cell_type": "markdown",
   "metadata": {},
   "source": [
    "pandas에서 문자열을 다루려면 .str을 써주면 편리하게 되는 것 같다.(사실 이 방법 말고는 없는듯)"
   ]
  },
  {
   "cell_type": "markdown",
   "metadata": {},
   "source": [
    "근데 substr이나 grep 등을 안 써도 돼서 상당히 편리하다. str하고 인덱싱을 하면 되니까"
   ]
  },
  {
   "cell_type": "code",
   "execution_count": 10,
   "metadata": {},
   "outputs": [],
   "source": [
    "import pandas as pd\n",
    "df = pd.DataFrame({'info': ['Alice-female','Bob-male','Charlie-male','Dave-male','Ellen-female','Frank-male'],\n",
    "                   'age': [24,42,18,68,24,30],\n",
    "                   'state': ['NY','CA','CA','TX','CA','NY'],\n",
    "                   'point': [64,24,70,70,88,57]}\n",
    "                  )"
   ]
  },
  {
   "cell_type": "markdown",
   "metadata": {},
   "source": [
    "## 4-1) 기본적으로 데이터 스플릿"
   ]
  },
  {
   "cell_type": "code",
   "execution_count": 11,
   "metadata": {},
   "outputs": [
    {
     "data": {
      "text/plain": [
       "0    [Alice, female]\n",
       "1        [Bob, male]\n",
       "2    [Charlie, male]\n",
       "3       [Dave, male]\n",
       "4    [Ellen, female]\n",
       "5      [Frank, male]\n",
       "Name: info, dtype: object"
      ]
     },
     "execution_count": 11,
     "metadata": {},
     "output_type": "execute_result"
    }
   ],
   "source": [
    "df['info'].str.split('-')"
   ]
  },
  {
   "cell_type": "markdown",
   "metadata": {},
   "source": [
    "- 만약 데이터를 나눠서 칼럼으로 저장하고 싶다면 아래와 같이 하면 된다."
   ]
  },
  {
   "cell_type": "code",
   "execution_count": 12,
   "metadata": {},
   "outputs": [
    {
     "data": {
      "text/html": [
       "<div>\n",
       "<style scoped>\n",
       "    .dataframe tbody tr th:only-of-type {\n",
       "        vertical-align: middle;\n",
       "    }\n",
       "\n",
       "    .dataframe tbody tr th {\n",
       "        vertical-align: top;\n",
       "    }\n",
       "\n",
       "    .dataframe thead th {\n",
       "        text-align: right;\n",
       "    }\n",
       "</style>\n",
       "<table border=\"1\" class=\"dataframe\">\n",
       "  <thead>\n",
       "    <tr style=\"text-align: right;\">\n",
       "      <th></th>\n",
       "      <th>info</th>\n",
       "      <th>age</th>\n",
       "      <th>state</th>\n",
       "      <th>point</th>\n",
       "      <th>name</th>\n",
       "      <th>sex</th>\n",
       "    </tr>\n",
       "  </thead>\n",
       "  <tbody>\n",
       "    <tr>\n",
       "      <th>0</th>\n",
       "      <td>Alice-female</td>\n",
       "      <td>24</td>\n",
       "      <td>NY</td>\n",
       "      <td>64</td>\n",
       "      <td>Alice</td>\n",
       "      <td>female</td>\n",
       "    </tr>\n",
       "    <tr>\n",
       "      <th>1</th>\n",
       "      <td>Bob-male</td>\n",
       "      <td>42</td>\n",
       "      <td>CA</td>\n",
       "      <td>24</td>\n",
       "      <td>Bob</td>\n",
       "      <td>male</td>\n",
       "    </tr>\n",
       "    <tr>\n",
       "      <th>2</th>\n",
       "      <td>Charlie-male</td>\n",
       "      <td>18</td>\n",
       "      <td>CA</td>\n",
       "      <td>70</td>\n",
       "      <td>Charlie</td>\n",
       "      <td>male</td>\n",
       "    </tr>\n",
       "    <tr>\n",
       "      <th>3</th>\n",
       "      <td>Dave-male</td>\n",
       "      <td>68</td>\n",
       "      <td>TX</td>\n",
       "      <td>70</td>\n",
       "      <td>Dave</td>\n",
       "      <td>male</td>\n",
       "    </tr>\n",
       "    <tr>\n",
       "      <th>4</th>\n",
       "      <td>Ellen-female</td>\n",
       "      <td>24</td>\n",
       "      <td>CA</td>\n",
       "      <td>88</td>\n",
       "      <td>Ellen</td>\n",
       "      <td>female</td>\n",
       "    </tr>\n",
       "    <tr>\n",
       "      <th>5</th>\n",
       "      <td>Frank-male</td>\n",
       "      <td>30</td>\n",
       "      <td>NY</td>\n",
       "      <td>57</td>\n",
       "      <td>Frank</td>\n",
       "      <td>male</td>\n",
       "    </tr>\n",
       "  </tbody>\n",
       "</table>\n",
       "</div>"
      ],
      "text/plain": [
       "           info  age state  point     name     sex\n",
       "0  Alice-female   24    NY     64    Alice  female\n",
       "1      Bob-male   42    CA     24      Bob    male\n",
       "2  Charlie-male   18    CA     70  Charlie    male\n",
       "3     Dave-male   68    TX     70     Dave    male\n",
       "4  Ellen-female   24    CA     88    Ellen  female\n",
       "5    Frank-male   30    NY     57    Frank    male"
      ]
     },
     "execution_count": 12,
     "metadata": {},
     "output_type": "execute_result"
    }
   ],
   "source": [
    "temp = df['info'].str.split('-')\n",
    "\n",
    "df['name'] = temp.str[0]\n",
    "df['sex'] = temp.str[1]\n",
    "df"
   ]
  },
  {
   "cell_type": "code",
   "execution_count": 13,
   "metadata": {},
   "outputs": [
    {
     "data": {
      "text/html": [
       "<div>\n",
       "<style scoped>\n",
       "    .dataframe tbody tr th:only-of-type {\n",
       "        vertical-align: middle;\n",
       "    }\n",
       "\n",
       "    .dataframe tbody tr th {\n",
       "        vertical-align: top;\n",
       "    }\n",
       "\n",
       "    .dataframe thead th {\n",
       "        text-align: right;\n",
       "    }\n",
       "</style>\n",
       "<table border=\"1\" class=\"dataframe\">\n",
       "  <thead>\n",
       "    <tr style=\"text-align: right;\">\n",
       "      <th></th>\n",
       "      <th>0</th>\n",
       "      <th>1</th>\n",
       "    </tr>\n",
       "  </thead>\n",
       "  <tbody>\n",
       "    <tr>\n",
       "      <th>0</th>\n",
       "      <td>Alice</td>\n",
       "      <td>female</td>\n",
       "    </tr>\n",
       "    <tr>\n",
       "      <th>1</th>\n",
       "      <td>Bob</td>\n",
       "      <td>male</td>\n",
       "    </tr>\n",
       "    <tr>\n",
       "      <th>2</th>\n",
       "      <td>Charlie</td>\n",
       "      <td>male</td>\n",
       "    </tr>\n",
       "    <tr>\n",
       "      <th>3</th>\n",
       "      <td>Dave</td>\n",
       "      <td>male</td>\n",
       "    </tr>\n",
       "    <tr>\n",
       "      <th>4</th>\n",
       "      <td>Ellen</td>\n",
       "      <td>female</td>\n",
       "    </tr>\n",
       "    <tr>\n",
       "      <th>5</th>\n",
       "      <td>Frank</td>\n",
       "      <td>male</td>\n",
       "    </tr>\n",
       "  </tbody>\n",
       "</table>\n",
       "</div>"
      ],
      "text/plain": [
       "         0       1\n",
       "0    Alice  female\n",
       "1      Bob    male\n",
       "2  Charlie    male\n",
       "3     Dave    male\n",
       "4    Ellen  female\n",
       "5    Frank    male"
      ]
     },
     "execution_count": 13,
     "metadata": {},
     "output_type": "execute_result"
    }
   ],
   "source": [
    "\"\"\"\n",
    "분할된 리스트를 바로 데이터 프레임으로 만들려면 expand = True 해주면 된다고 한다.\n",
    "\"\"\"\n",
    "df['info'].str.split('-', expand = True)"
   ]
  },
  {
   "cell_type": "markdown",
   "metadata": {},
   "source": [
    "## 4-2) 문자열 일부만 추출"
   ]
  },
  {
   "cell_type": "code",
   "execution_count": 4,
   "metadata": {},
   "outputs": [
    {
     "data": {
      "text/plain": [
       "0    Alic\n",
       "1     Bob\n",
       "2    Char\n",
       "3    Dave\n",
       "4    Elle\n",
       "5    Fran\n",
       "Name: name, dtype: object"
      ]
     },
     "execution_count": 4,
     "metadata": {},
     "output_type": "execute_result"
    }
   ],
   "source": [
    "df['name'].str[:4]"
   ]
  },
  {
   "cell_type": "markdown",
   "metadata": {},
   "source": [
    "## 4-3) 글자 인식"
   ]
  },
  {
   "cell_type": "markdown",
   "metadata": {},
   "source": [
    "### 4-3-1) 시작글자 인식"
   ]
  },
  {
   "cell_type": "code",
   "execution_count": 14,
   "metadata": {},
   "outputs": [
    {
     "data": {
      "text/plain": [
       "0    False\n",
       "1    False\n",
       "2     True\n",
       "3    False\n",
       "4    False\n",
       "5    False\n",
       "Name: name, dtype: bool"
      ]
     },
     "execution_count": 14,
     "metadata": {},
     "output_type": "execute_result"
    }
   ],
   "source": [
    "df['name'].str.startswith('C')"
   ]
  },
  {
   "cell_type": "code",
   "execution_count": 18,
   "metadata": {},
   "outputs": [
    {
     "data": {
      "text/html": [
       "<div>\n",
       "<style scoped>\n",
       "    .dataframe tbody tr th:only-of-type {\n",
       "        vertical-align: middle;\n",
       "    }\n",
       "\n",
       "    .dataframe tbody tr th {\n",
       "        vertical-align: top;\n",
       "    }\n",
       "\n",
       "    .dataframe thead th {\n",
       "        text-align: right;\n",
       "    }\n",
       "</style>\n",
       "<table border=\"1\" class=\"dataframe\">\n",
       "  <thead>\n",
       "    <tr style=\"text-align: right;\">\n",
       "      <th></th>\n",
       "      <th>info</th>\n",
       "      <th>age</th>\n",
       "      <th>state</th>\n",
       "      <th>point</th>\n",
       "      <th>name</th>\n",
       "      <th>sex</th>\n",
       "    </tr>\n",
       "  </thead>\n",
       "  <tbody>\n",
       "    <tr>\n",
       "      <th>2</th>\n",
       "      <td>Charlie-male</td>\n",
       "      <td>18</td>\n",
       "      <td>CA</td>\n",
       "      <td>70</td>\n",
       "      <td>Charlie</td>\n",
       "      <td>male</td>\n",
       "    </tr>\n",
       "  </tbody>\n",
       "</table>\n",
       "</div>"
      ],
      "text/plain": [
       "           info  age state  point     name   sex\n",
       "2  Charlie-male   18    CA     70  Charlie  male"
      ]
     },
     "execution_count": 18,
     "metadata": {},
     "output_type": "execute_result"
    }
   ],
   "source": [
    "df[df['name'].str.startswith('C')]"
   ]
  },
  {
   "cell_type": "markdown",
   "metadata": {},
   "source": [
    "### 4-3-2) 끝글자 인식"
   ]
  },
  {
   "cell_type": "code",
   "execution_count": 19,
   "metadata": {},
   "outputs": [
    {
     "data": {
      "text/html": [
       "<div>\n",
       "<style scoped>\n",
       "    .dataframe tbody tr th:only-of-type {\n",
       "        vertical-align: middle;\n",
       "    }\n",
       "\n",
       "    .dataframe tbody tr th {\n",
       "        vertical-align: top;\n",
       "    }\n",
       "\n",
       "    .dataframe thead th {\n",
       "        text-align: right;\n",
       "    }\n",
       "</style>\n",
       "<table border=\"1\" class=\"dataframe\">\n",
       "  <thead>\n",
       "    <tr style=\"text-align: right;\">\n",
       "      <th></th>\n",
       "      <th>info</th>\n",
       "      <th>age</th>\n",
       "      <th>state</th>\n",
       "      <th>point</th>\n",
       "      <th>name</th>\n",
       "      <th>sex</th>\n",
       "    </tr>\n",
       "  </thead>\n",
       "  <tbody>\n",
       "    <tr>\n",
       "      <th>4</th>\n",
       "      <td>Ellen-female</td>\n",
       "      <td>24</td>\n",
       "      <td>CA</td>\n",
       "      <td>88</td>\n",
       "      <td>Ellen</td>\n",
       "      <td>female</td>\n",
       "    </tr>\n",
       "  </tbody>\n",
       "</table>\n",
       "</div>"
      ],
      "text/plain": [
       "           info  age state  point   name     sex\n",
       "4  Ellen-female   24    CA     88  Ellen  female"
      ]
     },
     "execution_count": 19,
     "metadata": {},
     "output_type": "execute_result"
    }
   ],
   "source": [
    "df[df['name'].str.endswith('n')]"
   ]
  },
  {
   "cell_type": "markdown",
   "metadata": {},
   "source": [
    "### 4-3-3) 포함글자 인식"
   ]
  },
  {
   "cell_type": "code",
   "execution_count": 20,
   "metadata": {},
   "outputs": [
    {
     "data": {
      "text/html": [
       "<div>\n",
       "<style scoped>\n",
       "    .dataframe tbody tr th:only-of-type {\n",
       "        vertical-align: middle;\n",
       "    }\n",
       "\n",
       "    .dataframe tbody tr th {\n",
       "        vertical-align: top;\n",
       "    }\n",
       "\n",
       "    .dataframe thead th {\n",
       "        text-align: right;\n",
       "    }\n",
       "</style>\n",
       "<table border=\"1\" class=\"dataframe\">\n",
       "  <thead>\n",
       "    <tr style=\"text-align: right;\">\n",
       "      <th></th>\n",
       "      <th>info</th>\n",
       "      <th>age</th>\n",
       "      <th>state</th>\n",
       "      <th>point</th>\n",
       "      <th>name</th>\n",
       "      <th>sex</th>\n",
       "    </tr>\n",
       "  </thead>\n",
       "  <tbody>\n",
       "    <tr>\n",
       "      <th>3</th>\n",
       "      <td>Dave-male</td>\n",
       "      <td>68</td>\n",
       "      <td>TX</td>\n",
       "      <td>70</td>\n",
       "      <td>Dave</td>\n",
       "      <td>male</td>\n",
       "    </tr>\n",
       "  </tbody>\n",
       "</table>\n",
       "</div>"
      ],
      "text/plain": [
       "        info  age state  point  name   sex\n",
       "3  Dave-male   68    TX     70  Dave  male"
      ]
     },
     "execution_count": 20,
     "metadata": {},
     "output_type": "execute_result"
    }
   ],
   "source": [
    "df[df['name'].str.contains('av')]"
   ]
  },
  {
   "cell_type": "markdown",
   "metadata": {},
   "source": [
    "## 4-4) 문자 대체"
   ]
  },
  {
   "cell_type": "code",
   "execution_count": 24,
   "metadata": {},
   "outputs": [
    {
     "data": {
      "text/plain": [
       "0    Alice_female\n",
       "1        Bob_male\n",
       "2    Charlie_male\n",
       "3       Dave_male\n",
       "4    Ellen_female\n",
       "5      Frank_male\n",
       "Name: info, dtype: object"
      ]
     },
     "execution_count": 24,
     "metadata": {},
     "output_type": "execute_result"
    }
   ],
   "source": [
    "\"\"\"\n",
    "oldvalue, newvalue 순으로 넣어주면 된다.\n",
    "\"\"\"\n",
    "df['info'].str.replace(\"-\", \"_\")"
   ]
  },
  {
   "cell_type": "code",
   "execution_count": 13,
   "metadata": {},
   "outputs": [
    {
     "data": {
      "text/plain": [
       "'39.11|00'"
      ]
     },
     "execution_count": 13,
     "metadata": {},
     "output_type": "execute_result"
    }
   ],
   "source": [
    "str_test = \"39|11|00\"\n",
    "str_test.replace( '|', '.',1)"
   ]
  },
  {
   "cell_type": "markdown",
   "metadata": {},
   "source": [
    "> 아주 좋은게 몇번 교체할 지 지정할 수 있다. "
   ]
  },
  {
   "cell_type": "markdown",
   "metadata": {},
   "source": [
    "## 4-5) 문자열 패딩"
   ]
  },
  {
   "cell_type": "code",
   "execution_count": 25,
   "metadata": {},
   "outputs": [
    {
     "data": {
      "text/plain": [
       "0    _____Alice\n",
       "1    _______Bob\n",
       "2    ___Charlie\n",
       "3    ______Dave\n",
       "4    _____Ellen\n",
       "5    _____Frank\n",
       "Name: name, dtype: object"
      ]
     },
     "execution_count": 25,
     "metadata": {},
     "output_type": "execute_result"
    }
   ],
   "source": [
    "df['name'].str.pad(width = 10, side = 'left', fillchar = \"_\")"
   ]
  },
  {
   "cell_type": "code",
   "execution_count": 27,
   "metadata": {},
   "outputs": [
    {
     "data": {
      "text/plain": [
       "0    __Alice___\n",
       "1    ___Bob____\n",
       "2    _Charlie__\n",
       "3    ___Dave___\n",
       "4    __Ellen___\n",
       "5    __Frank___\n",
       "Name: name, dtype: object"
      ]
     },
     "execution_count": 27,
     "metadata": {},
     "output_type": "execute_result"
    }
   ],
   "source": [
    "df['name'].str.center(width = 10, fillchar = \"_\")"
   ]
  },
  {
   "cell_type": "markdown",
   "metadata": {},
   "source": [
    "## 4-6) 공백제거"
   ]
  },
  {
   "cell_type": "markdown",
   "metadata": {},
   "source": [
    "`str.strip()`을 쓰면 된다"
   ]
  },
  {
   "cell_type": "code",
   "execution_count": null,
   "metadata": {},
   "outputs": [],
   "source": []
  }
 ],
 "metadata": {
  "kernelspec": {
   "display_name": "Python 3",
   "language": "python",
   "name": "python3"
  },
  "language_info": {
   "codemirror_mode": {
    "name": "ipython",
    "version": 3
   },
   "file_extension": ".py",
   "mimetype": "text/x-python",
   "name": "python",
   "nbconvert_exporter": "python",
   "pygments_lexer": "ipython3",
   "version": "3.8.5"
  }
 },
 "nbformat": 4,
 "nbformat_minor": 4
}
