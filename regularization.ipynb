{
 "cells": [
  {
   "cell_type": "markdown",
   "metadata": {},
   "source": [
    "## SAS로 진행됐던 정규화 과정을 파이썬으로 옮겨본 방식"
   ]
  },
  {
   "cell_type": "code",
   "execution_count": 1,
   "metadata": {},
   "outputs": [],
   "source": [
    "import numpy as np\n",
    "import pandas as pd\n",
    "np.random.seed(1234)\n",
    "\n",
    "#생성된 난수에 대해 정규화를 진행한다.\n",
    "data1 = pd.DataFrame(\n",
    "    data = {'grade' : np.random.rand(10000)*100})\n",
    "data1.index.name = 'index'\n",
    "data1['group'] = 0\n",
    "data1.to_csv('C:/Users/jiho0/OneDrive/바탕 화면/SAS/SAS_CODE/참고자료/sample_data/sample.txt', sep = ' ', encoding = 'cp949')"
   ]
  },
  {
   "cell_type": "code",
   "execution_count": 2,
   "metadata": {},
   "outputs": [
    {
     "name": "stdout",
     "output_type": "stream",
     "text": [
      "15.179949999803899\n"
     ]
    }
   ],
   "source": [
    "from scipy.stats import norm\n",
    "\n",
    "for i in np.arange(10,16,0.00001) : \n",
    "    if norm(50,i).cdf(x=0) >= 0.0005 :\n",
    "        print(i)\n",
    "        break"
   ]
  },
  {
   "cell_type": "code",
   "execution_count": 3,
   "metadata": {},
   "outputs": [
    {
     "name": "stdout",
     "output_type": "stream",
     "text": [
      "[0.0005, 0.0008, 0.0012, 0.0019, 0.0028, 0.0042, 0.0062, 0.0089, 0.0126, 0.0175, 0.0241, 0.0326, 0.0434, 0.0569, 0.0736, 0.0938, 0.1179, 0.1459, 0.1782, 0.2146, 0.255, 0.2991, 0.3463, 0.3961, 0.4476, 0.5, 0.5524, 0.6039, 0.6537, 0.7009, 0.745, 0.7854, 0.8218, 0.8541, 0.8821, 0.9062, 0.9264, 0.9431, 0.9566, 0.9674, 0.9759, 0.9825, 0.9874, 0.9911, 0.9938, 0.9958, 0.9972, 0.9981, 0.9988, 0.9992, 0.9995]\n"
     ]
    }
   ],
   "source": [
    "from scipy.stats import norm\n",
    "pctl = []\n",
    "# i = 15.179949999803899\n",
    "for k in range(0,102,2) : \n",
    "    pctl.append(round(norm(50,i).cdf(x = k), ndigits = 4))\n",
    "\n",
    "print(pctl)"
   ]
  },
  {
   "cell_type": "code",
   "execution_count": 4,
   "metadata": {},
   "outputs": [
    {
     "data": {
      "text/html": [
       "<div>\n",
       "<style scoped>\n",
       "    .dataframe tbody tr th:only-of-type {\n",
       "        vertical-align: middle;\n",
       "    }\n",
       "\n",
       "    .dataframe tbody tr th {\n",
       "        vertical-align: top;\n",
       "    }\n",
       "\n",
       "    .dataframe thead th {\n",
       "        text-align: right;\n",
       "    }\n",
       "</style>\n",
       "<table border=\"1\" class=\"dataframe\">\n",
       "  <thead>\n",
       "    <tr style=\"text-align: right;\">\n",
       "      <th></th>\n",
       "      <th>grade</th>\n",
       "      <th>group</th>\n",
       "    </tr>\n",
       "  </thead>\n",
       "  <tbody>\n",
       "    <tr>\n",
       "      <th>0.0005</th>\n",
       "      <td>0.046145</td>\n",
       "      <td>1</td>\n",
       "    </tr>\n",
       "    <tr>\n",
       "      <th>0.0008</th>\n",
       "      <td>0.068330</td>\n",
       "      <td>2</td>\n",
       "    </tr>\n",
       "    <tr>\n",
       "      <th>0.0012</th>\n",
       "      <td>0.131785</td>\n",
       "      <td>3</td>\n",
       "    </tr>\n",
       "    <tr>\n",
       "      <th>0.0019</th>\n",
       "      <td>0.224374</td>\n",
       "      <td>4</td>\n",
       "    </tr>\n",
       "    <tr>\n",
       "      <th>0.0028</th>\n",
       "      <td>0.407392</td>\n",
       "      <td>5</td>\n",
       "    </tr>\n",
       "  </tbody>\n",
       "</table>\n",
       "</div>"
      ],
      "text/plain": [
       "           grade  group\n",
       "0.0005  0.046145      1\n",
       "0.0008  0.068330      2\n",
       "0.0012  0.131785      3\n",
       "0.0019  0.224374      4\n",
       "0.0028  0.407392      5"
      ]
     },
     "execution_count": 4,
     "metadata": {},
     "output_type": "execute_result"
    }
   ],
   "source": [
    "cut1 = data1.quantile(q = pctl)\n",
    "\n",
    "cut1['group'] = np.arange(1,52,1)\n",
    "# cut1 = cut1.sort_values(by = ['grade'], axis = 0, ascending = False)\n",
    "\n",
    "cut1.head(5)"
   ]
  },
  {
   "cell_type": "code",
   "execution_count": 5,
   "metadata": {},
   "outputs": [
    {
     "name": "stdout",
     "output_type": "stream",
     "text": [
      "           grade  group\n",
      "0.0005  0.046145      1\n",
      "0.0008  0.068330      2\n",
      "0.0012  0.131785      3\n",
      "0.0019  0.224374      4\n",
      "0.0028  0.407392      5\n"
     ]
    }
   ],
   "source": [
    "\n",
    "cut1 = data1.quantile(q = pctl)\n",
    "cut1['group'] = np.arange(1,52,1)\n",
    "\n",
    "# cut1 = cut1.sort_values(by = ['grade'], axis = 0, ascending = False)\n",
    "print(cut1.head(5))"
   ]
  },
  {
   "cell_type": "code",
   "execution_count": 6,
   "metadata": {},
   "outputs": [],
   "source": [
    "cut2 = cut1.shift(-1)\n",
    "cut2['group'] = cut2['group'].fillna(52)\n",
    "cut2['grade'] = cut2['grade'].fillna(100) \n",
    "cut2.columns = ['upper', 'group']\n",
    "\n",
    "cut3 = cut1.join(cut2['upper'])"
   ]
  },
  {
   "cell_type": "code",
   "execution_count": 7,
   "metadata": {},
   "outputs": [],
   "source": [
    "for a in data1.index : \n",
    "    val = data1.loc[a, 'grade']\n",
    "    for b in cut3.index : \n",
    "        cut_upper = cut3.loc[b, 'upper']\n",
    "        cut_lower = cut3.loc[b, 'grade']\n",
    "        group = cut3.loc[b, 'group']\n",
    "        if val > cut_lower and val <= cut_upper : \n",
    "            data1.loc[a, 'group'] = group"
   ]
  },
  {
   "cell_type": "code",
   "execution_count": 8,
   "metadata": {},
   "outputs": [],
   "source": [
    "data2 = data1.groupby('group').max()\n",
    "data2.columns = ['max'] \n"
   ]
  },
  {
   "cell_type": "code",
   "execution_count": 9,
   "metadata": {},
   "outputs": [],
   "source": [
    "max_lag = data2['max'].shift(1)\n",
    "max_lag.fillna(0)\n",
    "data3 = pd.concat([data2, max_lag], axis = 1)\n",
    "data3.columns = ['max', 'max_lag']\n",
    "del max_lag"
   ]
  },
  {
   "cell_type": "code",
   "execution_count": 10,
   "metadata": {},
   "outputs": [],
   "source": [
    "base1 = np.arange(0,100,2)\n",
    "base1 = base1.tolist()\n",
    "base1.insert(0, np.nan)\n",
    "base1.append(np.nan)\n",
    "base2 = pd.Series(base1)\n",
    "\n",
    "data4 = pd.concat([data3, base2], axis = 1)\n",
    "data4.sort_index(inplace = True)\n",
    "data4.columns = ['max', 'max_lag', 'base']\n",
    "del base1, base2"
   ]
  },
  {
   "cell_type": "code",
   "execution_count": 11,
   "metadata": {},
   "outputs": [],
   "source": [
    "data4['gradient'] = 2 / (data4['max'] - data4['max_lag'])"
   ]
  },
  {
   "cell_type": "code",
   "execution_count": 12,
   "metadata": {},
   "outputs": [],
   "source": [
    "for a in data1.index : \n",
    "    val  = data1.loc[a, 'grade']\n",
    "    for b in data4.index : \n",
    "        max_ = data4.loc[b,'max']\n",
    "        max_lag = data4.loc[b,'max_lag']\n",
    "        base = data4.loc[b,'base']\n",
    "        gradient = data4.loc[b,'gradient']\n",
    "            \n",
    "        if val >max_lag and val <= max_ :\n",
    "            if b not in [0, 51] : \n",
    "                data1.loc[a, 'grade_regul'] = base + gradient * (val - max_lag)\n",
    "            elif b in [0] : \n",
    "                data1.loc[a, 'grade_regul'] = 0\n",
    "            else : \n",
    "                data1.loc[a, 'grade_regul'] = 100"
   ]
  },
  {
   "cell_type": "code",
   "execution_count": 13,
   "metadata": {},
   "outputs": [],
   "source": [
    "data1['grade_regul'] = data1['grade_regul'].fillna(0)\n",
    "data_fin = data1.sort_values(by = ['grade_regul'], axis = 0)\n"
   ]
  }
 ],
 "metadata": {
  "kernelspec": {
   "display_name": "Python 3",
   "language": "python",
   "name": "python3"
  },
  "language_info": {
   "codemirror_mode": {
    "name": "ipython",
    "version": 3
   },
   "file_extension": ".py",
   "mimetype": "text/x-python",
   "name": "python",
   "nbconvert_exporter": "python",
   "pygments_lexer": "ipython3",
   "version": "3.8.5"
  }
 },
 "nbformat": 4,
 "nbformat_minor": 4
}
